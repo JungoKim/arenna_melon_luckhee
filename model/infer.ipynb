{
 "cells": [
  {
   "cell_type": "code",
   "execution_count": 1563,
   "metadata": {},
   "outputs": [],
   "source": [
    "from datetime import timedelta, datetime\n",
    "import glob\n",
    "from itertools import chain\n",
    "import json\n",
    "import os\n",
    "import re\n",
    "import math\n",
    "import numpy as np\n",
    "import pandas as pd"
   ]
  },
  {
   "cell_type": "code",
   "execution_count": 1564,
   "metadata": {},
   "outputs": [],
   "source": [
    "from gensim.models import Word2Vec\n",
    "from gensim.models.keyedvectors import WordEmbeddingsKeyedVectors"
   ]
  },
  {
   "cell_type": "code",
   "execution_count": null,
   "metadata": {},
   "outputs": [],
   "source": []
  },
  {
   "cell_type": "code",
   "execution_count": 1565,
   "metadata": {},
   "outputs": [],
   "source": [
    "song_meta = pd.read_json('../res/song_meta.json', typ = 'frame')"
   ]
  },
  {
   "cell_type": "code",
   "execution_count": 1566,
   "metadata": {},
   "outputs": [
    {
     "data": {
      "text/html": [
       "<div>\n",
       "<style scoped>\n",
       "    .dataframe tbody tr th:only-of-type {\n",
       "        vertical-align: middle;\n",
       "    }\n",
       "\n",
       "    .dataframe tbody tr th {\n",
       "        vertical-align: top;\n",
       "    }\n",
       "\n",
       "    .dataframe thead th {\n",
       "        text-align: right;\n",
       "    }\n",
       "</style>\n",
       "<table border=\"1\" class=\"dataframe\">\n",
       "  <thead>\n",
       "    <tr style=\"text-align: right;\">\n",
       "      <th></th>\n",
       "      <th>song_gn_dtl_gnr_basket</th>\n",
       "      <th>issue_date</th>\n",
       "      <th>album_name</th>\n",
       "      <th>album_id</th>\n",
       "      <th>artist_id_basket</th>\n",
       "      <th>song_name</th>\n",
       "      <th>song_gn_gnr_basket</th>\n",
       "      <th>artist_name_basket</th>\n",
       "      <th>id</th>\n",
       "    </tr>\n",
       "  </thead>\n",
       "  <tbody>\n",
       "    <tr>\n",
       "      <th>0</th>\n",
       "      <td>[GN0901]</td>\n",
       "      <td>20140512</td>\n",
       "      <td>불후의 명곡 - 7080 추억의 얄개시대 팝송베스트</td>\n",
       "      <td>2255639</td>\n",
       "      <td>[2727]</td>\n",
       "      <td>Feelings</td>\n",
       "      <td>[GN0900]</td>\n",
       "      <td>[Various Artists]</td>\n",
       "      <td>0</td>\n",
       "    </tr>\n",
       "    <tr>\n",
       "      <th>1</th>\n",
       "      <td>[GN1601, GN1606]</td>\n",
       "      <td>20080421</td>\n",
       "      <td>Bach : Partitas Nos. 2, 3 &amp; 4</td>\n",
       "      <td>376431</td>\n",
       "      <td>[29966]</td>\n",
       "      <td>Bach : Partita No. 4 In D Major, BWV 828 - II....</td>\n",
       "      <td>[GN1600]</td>\n",
       "      <td>[Murray Perahia]</td>\n",
       "      <td>1</td>\n",
       "    </tr>\n",
       "    <tr>\n",
       "      <th>2</th>\n",
       "      <td>[GN0901]</td>\n",
       "      <td>20180518</td>\n",
       "      <td>Hit</td>\n",
       "      <td>4698747</td>\n",
       "      <td>[3361]</td>\n",
       "      <td>Solsbury Hill (Remastered 2002)</td>\n",
       "      <td>[GN0900]</td>\n",
       "      <td>[Peter Gabriel]</td>\n",
       "      <td>2</td>\n",
       "    </tr>\n",
       "    <tr>\n",
       "      <th>3</th>\n",
       "      <td>[GN1102, GN1101]</td>\n",
       "      <td>20151016</td>\n",
       "      <td>Feeling Right (Everything Is Nice) (Feat. Popc...</td>\n",
       "      <td>2644882</td>\n",
       "      <td>[838543]</td>\n",
       "      <td>Feeling Right (Everything Is Nice) (Feat. Popc...</td>\n",
       "      <td>[GN1100]</td>\n",
       "      <td>[Matoma]</td>\n",
       "      <td>3</td>\n",
       "    </tr>\n",
       "    <tr>\n",
       "      <th>4</th>\n",
       "      <td>[GN1802, GN1801]</td>\n",
       "      <td>20110824</td>\n",
       "      <td>그남자 그여자</td>\n",
       "      <td>2008470</td>\n",
       "      <td>[560160]</td>\n",
       "      <td>그남자 그여자</td>\n",
       "      <td>[GN1800]</td>\n",
       "      <td>[Jude Law]</td>\n",
       "      <td>4</td>\n",
       "    </tr>\n",
       "  </tbody>\n",
       "</table>\n",
       "</div>"
      ],
      "text/plain": [
       "  song_gn_dtl_gnr_basket  issue_date  \\\n",
       "0               [GN0901]    20140512   \n",
       "1       [GN1601, GN1606]    20080421   \n",
       "2               [GN0901]    20180518   \n",
       "3       [GN1102, GN1101]    20151016   \n",
       "4       [GN1802, GN1801]    20110824   \n",
       "\n",
       "                                          album_name  album_id  \\\n",
       "0                       불후의 명곡 - 7080 추억의 얄개시대 팝송베스트   2255639   \n",
       "1                      Bach : Partitas Nos. 2, 3 & 4    376431   \n",
       "2                                                Hit   4698747   \n",
       "3  Feeling Right (Everything Is Nice) (Feat. Popc...   2644882   \n",
       "4                                            그남자 그여자   2008470   \n",
       "\n",
       "  artist_id_basket                                          song_name  \\\n",
       "0           [2727]                                           Feelings   \n",
       "1          [29966]  Bach : Partita No. 4 In D Major, BWV 828 - II....   \n",
       "2           [3361]                    Solsbury Hill (Remastered 2002)   \n",
       "3         [838543]  Feeling Right (Everything Is Nice) (Feat. Popc...   \n",
       "4         [560160]                                            그남자 그여자   \n",
       "\n",
       "  song_gn_gnr_basket artist_name_basket  id  \n",
       "0           [GN0900]  [Various Artists]   0  \n",
       "1           [GN1600]   [Murray Perahia]   1  \n",
       "2           [GN0900]    [Peter Gabriel]   2  \n",
       "3           [GN1100]           [Matoma]   3  \n",
       "4           [GN1800]         [Jude Law]   4  "
      ]
     },
     "execution_count": 1566,
     "metadata": {},
     "output_type": "execute_result"
    }
   ],
   "source": [
    "song_meta.head()"
   ]
  },
  {
   "cell_type": "code",
   "execution_count": 1567,
   "metadata": {},
   "outputs": [],
   "source": [
    "song_meta_indexed = song_meta.set_index('id')"
   ]
  },
  {
   "cell_type": "code",
   "execution_count": 1568,
   "metadata": {},
   "outputs": [],
   "source": [
    "song_artist = []\n",
    "\n",
    "def get_song_artist(song, artist_list):\n",
    "    for artist in artist_list:\n",
    "        if artist is not 'Various Artists':\n",
    "            song_artist.append([song, artist])"
   ]
  },
  {
   "cell_type": "code",
   "execution_count": 1569,
   "metadata": {},
   "outputs": [],
   "source": [
    "result = song_meta.apply(lambda x : get_song_artist(x.id, x.artist_name_basket), axis=1)"
   ]
  },
  {
   "cell_type": "code",
   "execution_count": 1570,
   "metadata": {},
   "outputs": [],
   "source": [
    "song_artist_df = pd.DataFrame(song_artist, columns=['song', 'artist'])"
   ]
  },
  {
   "cell_type": "code",
   "execution_count": 1571,
   "metadata": {},
   "outputs": [],
   "source": [
    "song_artist_df = song_artist_df.set_index('song')"
   ]
  },
  {
   "cell_type": "code",
   "execution_count": null,
   "metadata": {},
   "outputs": [],
   "source": []
  },
  {
   "cell_type": "code",
   "execution_count": 1572,
   "metadata": {},
   "outputs": [],
   "source": [
    "song_album_df = song_meta[['id', 'album_id']]"
   ]
  },
  {
   "cell_type": "code",
   "execution_count": 1573,
   "metadata": {},
   "outputs": [],
   "source": [
    "song_album_df.columns = ['song', 'album']"
   ]
  },
  {
   "cell_type": "code",
   "execution_count": 1574,
   "metadata": {},
   "outputs": [],
   "source": [
    "song_album_df =  song_album_df.set_index('song')"
   ]
  },
  {
   "cell_type": "code",
   "execution_count": null,
   "metadata": {},
   "outputs": [],
   "source": []
  },
  {
   "cell_type": "code",
   "execution_count": 1575,
   "metadata": {},
   "outputs": [],
   "source": [
    "song_gn = []\n",
    "\n",
    "def get_song_gn(song, gn_list):\n",
    "    if len(gn_list) == 0:\n",
    "        song_gn.append([song, 'nogn'])\n",
    "    else:\n",
    "        for gn in gn_list:\n",
    "            song_gn.append([song, gn])"
   ]
  },
  {
   "cell_type": "code",
   "execution_count": 1576,
   "metadata": {},
   "outputs": [],
   "source": [
    "result = song_meta.apply(lambda x : get_song_gn(x.id, x.song_gn_dtl_gnr_basket), axis=1)"
   ]
  },
  {
   "cell_type": "code",
   "execution_count": 1577,
   "metadata": {},
   "outputs": [],
   "source": [
    "song_gn_df = pd.DataFrame(song_gn, columns=['song', 'gn'])"
   ]
  },
  {
   "cell_type": "code",
   "execution_count": 1578,
   "metadata": {},
   "outputs": [],
   "source": [
    "song_gn_df = song_gn_df.set_index('song')"
   ]
  },
  {
   "cell_type": "code",
   "execution_count": null,
   "metadata": {},
   "outputs": [],
   "source": []
  },
  {
   "cell_type": "code",
   "execution_count": 1579,
   "metadata": {},
   "outputs": [],
   "source": [
    "train = pd.read_json('../res/train.json', typ = 'frame')"
   ]
  },
  {
   "cell_type": "code",
   "execution_count": 1580,
   "metadata": {},
   "outputs": [],
   "source": [
    "val = pd.read_json('../res/val.json', typ = 'frame')"
   ]
  },
  {
   "cell_type": "code",
   "execution_count": 1581,
   "metadata": {},
   "outputs": [],
   "source": [
    "test = pd.read_json('../res/test.json', typ = 'frame')"
   ]
  },
  {
   "cell_type": "code",
   "execution_count": 1582,
   "metadata": {},
   "outputs": [],
   "source": [
    "train['songs_len'] = train['songs'].apply(lambda x : len(x))\n",
    "train['tags_len'] = train['tags'].apply(lambda x : len(x))\n",
    "val['songs_len'] = val['songs'].apply(lambda x : len(x))\n",
    "val['tags_len'] = val['tags'].apply(lambda x : len(x))\n",
    "test['songs_len'] = test['songs'].apply(lambda x : len(x))\n",
    "test['tags_len'] = test['tags'].apply(lambda x : len(x))"
   ]
  },
  {
   "cell_type": "code",
   "execution_count": null,
   "metadata": {},
   "outputs": [],
   "source": []
  },
  {
   "cell_type": "code",
   "execution_count": 1583,
   "metadata": {},
   "outputs": [],
   "source": [
    "model = Word2Vec.load(\"song2vec.model\")"
   ]
  },
  {
   "cell_type": "code",
   "execution_count": null,
   "metadata": {},
   "outputs": [],
   "source": []
  },
  {
   "cell_type": "code",
   "execution_count": null,
   "metadata": {},
   "outputs": [],
   "source": []
  },
  {
   "cell_type": "code",
   "execution_count": 1584,
   "metadata": {},
   "outputs": [],
   "source": [
    "song_song_list = []"
   ]
  },
  {
   "cell_type": "code",
   "execution_count": 1585,
   "metadata": {},
   "outputs": [],
   "source": [
    "song_song_count = 0"
   ]
  },
  {
   "cell_type": "code",
   "execution_count": 1586,
   "metadata": {},
   "outputs": [],
   "source": [
    "def co_occur_song(song_list):\n",
    "    global song_song_count\n",
    "    if song_song_count % 10000 == 0:\n",
    "        print(f'===== working at {song_song_count},  {datetime.now()} =====')\n",
    "    for idx1,song1 in enumerate(song_list):\n",
    "        for idx2,song2 in enumerate(song_list[idx1:idx1+30]):\n",
    "            if song1 is not song2:\n",
    "                song_song_list.append([song1, song2])\n",
    "                song_song_list.append([song2, song1])\n",
    "    song_song_count = song_song_count + 1\n",
    "            "
   ]
  },
  {
   "cell_type": "code",
   "execution_count": 1587,
   "metadata": {},
   "outputs": [
    {
     "name": "stdout",
     "output_type": "stream",
     "text": [
      "===== working at 0,  2020-07-22 12:46:38.211735 =====\n",
      "===== working at 10000,  2020-07-22 12:46:46.702655 =====\n",
      "===== working at 20000,  2020-07-22 12:47:02.715571 =====\n",
      "===== working at 30000,  2020-07-22 12:47:13.530866 =====\n",
      "===== working at 40000,  2020-07-22 12:47:16.561120 =====\n",
      "===== working at 50000,  2020-07-22 12:47:28.457626 =====\n",
      "===== working at 60000,  2020-07-22 12:47:41.741932 =====\n",
      "===== working at 70000,  2020-07-22 12:47:44.650997 =====\n",
      "===== working at 80000,  2020-07-22 12:47:59.500518 =====\n",
      "===== working at 90000,  2020-07-22 12:48:02.474688 =====\n",
      "===== working at 100000,  2020-07-22 12:48:19.404756 =====\n",
      "===== working at 110000,  2020-07-22 12:48:22.317207 =====\n"
     ]
    }
   ],
   "source": [
    "result = train['songs'].apply(co_occur_song)"
   ]
  },
  {
   "cell_type": "code",
   "execution_count": 1588,
   "metadata": {},
   "outputs": [],
   "source": [
    "co_song_df = pd.DataFrame(song_song_list, columns=['sa', 'sb'])"
   ]
  },
  {
   "cell_type": "code",
   "execution_count": 1589,
   "metadata": {},
   "outputs": [
    {
     "data": {
      "text/plain": [
       "(215131424, 2)"
      ]
     },
     "execution_count": 1589,
     "metadata": {},
     "output_type": "execute_result"
    }
   ],
   "source": [
    "co_song_df.shape"
   ]
  },
  {
   "cell_type": "code",
   "execution_count": null,
   "metadata": {},
   "outputs": [],
   "source": []
  },
  {
   "cell_type": "code",
   "execution_count": 1590,
   "metadata": {},
   "outputs": [],
   "source": [
    "co_song_count_df = co_song_df.groupby(['sa', 'sb']).size().reset_index().set_index('sa')"
   ]
  },
  {
   "cell_type": "code",
   "execution_count": 1591,
   "metadata": {},
   "outputs": [
    {
     "data": {
      "text/plain": [
       "(138395578, 2)"
      ]
     },
     "execution_count": 1591,
     "metadata": {},
     "output_type": "execute_result"
    }
   ],
   "source": [
    "co_song_count_df.shape"
   ]
  },
  {
   "cell_type": "code",
   "execution_count": 1592,
   "metadata": {},
   "outputs": [],
   "source": [
    "co_song_count_df.columns = ['sb', 'count']"
   ]
  },
  {
   "cell_type": "code",
   "execution_count": 1593,
   "metadata": {},
   "outputs": [],
   "source": [
    "co_song_count_df['count_scale'] = co_song_count_df['count'].apply(lambda x : math.log(x+1))"
   ]
  },
  {
   "cell_type": "code",
   "execution_count": null,
   "metadata": {},
   "outputs": [],
   "source": []
  },
  {
   "cell_type": "code",
   "execution_count": 1594,
   "metadata": {},
   "outputs": [],
   "source": [
    "pp_song_count_df = co_song_df.groupby('sa').size().sort_values(ascending=False).reset_index().set_index('sa')"
   ]
  },
  {
   "cell_type": "code",
   "execution_count": null,
   "metadata": {},
   "outputs": [],
   "source": []
  },
  {
   "cell_type": "code",
   "execution_count": 1595,
   "metadata": {},
   "outputs": [],
   "source": [
    "tag_song_list = []"
   ]
  },
  {
   "cell_type": "code",
   "execution_count": 1596,
   "metadata": {},
   "outputs": [],
   "source": [
    "def co_occur_tag_song(song_list, tag_list):\n",
    "    tags = list(set(tag_list))\n",
    "    for tag in tags:\n",
    "        for song in song_list:\n",
    "            tag_song_list.append([tag, song])"
   ]
  },
  {
   "cell_type": "code",
   "execution_count": 1597,
   "metadata": {},
   "outputs": [],
   "source": [
    "result = train.apply(lambda x : co_occur_tag_song(x.songs, x.tags), axis=1)"
   ]
  },
  {
   "cell_type": "code",
   "execution_count": 1598,
   "metadata": {},
   "outputs": [],
   "source": [
    "co_tag_song_df = pd.DataFrame(tag_song_list, columns=['tag', 'song'])"
   ]
  },
  {
   "cell_type": "code",
   "execution_count": 1599,
   "metadata": {},
   "outputs": [],
   "source": [
    "co_tag_song_df_indexed =  co_tag_song_df.set_index('tag')"
   ]
  },
  {
   "cell_type": "code",
   "execution_count": 1600,
   "metadata": {},
   "outputs": [],
   "source": [
    "co_tag_song_count_df = co_tag_song_df.groupby(['tag', 'song']).size().reset_index()"
   ]
  },
  {
   "cell_type": "code",
   "execution_count": 1601,
   "metadata": {},
   "outputs": [],
   "source": [
    "co_tag_song_count_df.columns = ['tag', 'song', 'count']"
   ]
  },
  {
   "cell_type": "code",
   "execution_count": 1602,
   "metadata": {},
   "outputs": [],
   "source": [
    "co_tag_song_count_df['count_scale'] = co_tag_song_count_df['count'].apply(lambda x : math.log(x+1))"
   ]
  },
  {
   "cell_type": "code",
   "execution_count": 1603,
   "metadata": {},
   "outputs": [],
   "source": [
    "co_tag_song_count_df_indexed = co_tag_song_count_df.set_index('song')"
   ]
  },
  {
   "cell_type": "code",
   "execution_count": 1604,
   "metadata": {},
   "outputs": [],
   "source": [
    "pp_tag_count_df = co_tag_song_df.groupby('tag').size().sort_values(ascending=False).reset_index().set_index('tag')"
   ]
  },
  {
   "cell_type": "code",
   "execution_count": 1605,
   "metadata": {},
   "outputs": [],
   "source": [
    "song_has_tag_set = set(co_tag_song_count_df_indexed.index.tolist())"
   ]
  },
  {
   "cell_type": "code",
   "execution_count": null,
   "metadata": {},
   "outputs": [],
   "source": []
  },
  {
   "cell_type": "code",
   "execution_count": null,
   "metadata": {},
   "outputs": [],
   "source": []
  },
  {
   "cell_type": "code",
   "execution_count": 1606,
   "metadata": {},
   "outputs": [],
   "source": [
    "tag_tag_list = []"
   ]
  },
  {
   "cell_type": "code",
   "execution_count": 1607,
   "metadata": {},
   "outputs": [],
   "source": [
    "def co_occur_tag(tag_list):\n",
    "    for tag1 in tag_list:\n",
    "        for tag2 in tag_list:\n",
    "            if tag1 is not tag2:\n",
    "                tag_tag_list.append([tag1, tag2])\n"
   ]
  },
  {
   "cell_type": "code",
   "execution_count": 1608,
   "metadata": {},
   "outputs": [],
   "source": [
    "result = train['tags'].apply(co_occur_tag)"
   ]
  },
  {
   "cell_type": "code",
   "execution_count": 1609,
   "metadata": {},
   "outputs": [],
   "source": [
    "co_tag_df = pd.DataFrame(tag_tag_list, columns=['ta', 'tb'])"
   ]
  },
  {
   "cell_type": "code",
   "execution_count": 1610,
   "metadata": {},
   "outputs": [],
   "source": [
    "co_tag_count_df = co_tag_df.groupby(['ta', 'tb']).size().reset_index().set_index('ta')"
   ]
  },
  {
   "cell_type": "code",
   "execution_count": 1611,
   "metadata": {},
   "outputs": [],
   "source": [
    "co_tag_count_df.columns = ['tb', 'count']"
   ]
  },
  {
   "cell_type": "code",
   "execution_count": 1612,
   "metadata": {},
   "outputs": [],
   "source": [
    "co_tag_count_df['count_scale'] = co_tag_count_df['count'].apply(lambda x : math.log(x+1))"
   ]
  },
  {
   "cell_type": "code",
   "execution_count": null,
   "metadata": {},
   "outputs": [],
   "source": []
  },
  {
   "cell_type": "code",
   "execution_count": 1613,
   "metadata": {},
   "outputs": [],
   "source": [
    "pp_tag_count_df = co_tag_df.groupby('ta').size().sort_values(ascending=False).reset_index().set_index('ta')"
   ]
  },
  {
   "cell_type": "code",
   "execution_count": 1614,
   "metadata": {},
   "outputs": [],
   "source": [
    "tag_has_tag_set = set(co_tag_count_df.index.tolist())"
   ]
  },
  {
   "cell_type": "code",
   "execution_count": null,
   "metadata": {},
   "outputs": [],
   "source": []
  },
  {
   "cell_type": "code",
   "execution_count": null,
   "metadata": {},
   "outputs": [],
   "source": []
  },
  {
   "cell_type": "code",
   "execution_count": 1615,
   "metadata": {},
   "outputs": [],
   "source": [
    "def get_reco_tag_co_occur(tag_list, size=10):\n",
    "    if len(tag_list) == 0:\n",
    "        return []\n",
    "    \n",
    "    tag_set = tag_has_tag_set & set(tag_list)\n",
    "    co_tag = co_tag_count_df.loc[tag_set]\n",
    "    co_tag_count = co_tag.groupby('tb')['count_scale'].sum().sort_values(ascending=False).reset_index()\n",
    "    #print(co_tag_count)\n",
    "    return co_tag_count[~co_tag_count['tb'].isin(tag_list)].head(size)"
   ]
  },
  {
   "cell_type": "code",
   "execution_count": 1616,
   "metadata": {},
   "outputs": [],
   "source": [
    "def reco_tag_co_occur(tag_list, size=10):\n",
    "    if len(tag_list) == 0:\n",
    "        return []\n",
    "    reco_top = get_reco_tag_co_occur(tag_list)\n",
    "    if len(reco_top) == 0:\n",
    "        return []\n",
    "    return reco_top['tb'].tolist()"
   ]
  },
  {
   "cell_type": "code",
   "execution_count": null,
   "metadata": {},
   "outputs": [],
   "source": []
  },
  {
   "cell_type": "code",
   "execution_count": 1617,
   "metadata": {},
   "outputs": [
    {
     "data": {
      "text/plain": [
       "['힙합', '우기', '비트', 'aomg']"
      ]
     },
     "execution_count": 1617,
     "metadata": {},
     "output_type": "execute_result"
    }
   ],
   "source": [
    "val.iloc[21242]['tags']"
   ]
  },
  {
   "cell_type": "code",
   "execution_count": 1618,
   "metadata": {},
   "outputs": [
    {
     "data": {
      "text/plain": [
       "['크리스마스', '캐롤', '겨울', '연말', 'Christmas', '크리스마스캐롤', '눈', '기분전환', '팝', 'Carol']"
      ]
     },
     "execution_count": 1618,
     "metadata": {},
     "output_type": "execute_result"
    }
   ],
   "source": [
    "reco_tag_co_occur(val.iloc[14149]['tags'])"
   ]
  },
  {
   "cell_type": "code",
   "execution_count": null,
   "metadata": {},
   "outputs": [],
   "source": []
  },
  {
   "cell_type": "code",
   "execution_count": 1619,
   "metadata": {},
   "outputs": [],
   "source": [
    "def get_reco_tag_song_co_occur(song_list, ignore_list=[], size=10):\n",
    "    if len(song_list) == 0:\n",
    "        return []\n",
    "    \n",
    "    song_set = song_has_tag_set & set(song_list)\n",
    "    co_tag = co_tag_song_count_df_indexed.loc[song_set]\n",
    "    co_tag_count = co_tag.groupby('tag')['count_scale'].sum().sort_values(ascending=False).reset_index()\n",
    "    #print(co_tag_count.shape)\n",
    "    #print(co_tag_count)\n",
    "    return co_tag_count[~co_tag_count['tag'].isin(ignore_list)].head(size)"
   ]
  },
  {
   "cell_type": "code",
   "execution_count": 1620,
   "metadata": {},
   "outputs": [],
   "source": [
    "def reco_tag_song_co_occur(song_list, ignore_list=[], size=10):\n",
    "    if len(song_list) == 0:\n",
    "        return []\n",
    "    reco_top = get_reco_tag_song_co_occur(song_list, ignore_list)\n",
    "    if len(reco_top) == 0:\n",
    "        return []\n",
    "    return reco_top['tag'].tolist()"
   ]
  },
  {
   "cell_type": "code",
   "execution_count": 1621,
   "metadata": {},
   "outputs": [
    {
     "data": {
      "text/plain": [
       "['크리스마스', '겨울', '캐롤', '기분전환', '연말', '눈', '사랑', '감성', 'Christmas', '카페']"
      ]
     },
     "execution_count": 1621,
     "metadata": {},
     "output_type": "execute_result"
    }
   ],
   "source": [
    "reco_tag_song_co_occur(val.iloc[14149]['songs'], val.iloc[14149]['tags'])"
   ]
  },
  {
   "cell_type": "code",
   "execution_count": null,
   "metadata": {},
   "outputs": [],
   "source": []
  },
  {
   "cell_type": "code",
   "execution_count": null,
   "metadata": {},
   "outputs": [],
   "source": []
  },
  {
   "cell_type": "code",
   "execution_count": null,
   "metadata": {},
   "outputs": [],
   "source": []
  },
  {
   "cell_type": "code",
   "execution_count": 1622,
   "metadata": {},
   "outputs": [],
   "source": [
    "def reco_tag_song_mix(tag_list, song_list, size=10):\n",
    "    reco_tag = get_reco_tag_co_occur(tag_list, 20)\n",
    "    if len(reco_tag) == 0:\n",
    "        return []\n",
    "    reco_tag.columns = ['tag', 'count_tag']\n",
    "    \n",
    "    reco_song = get_reco_tag_song_co_occur(song_list, tag_list, 20)\n",
    "    \n",
    "    if len(reco_song) == 0:\n",
    "        return reco_tag['tag'].tolist()\n",
    "    \n",
    "    reco_song.columns = ['tag', 'count_song']     \n",
    "    reco = pd.merge(reco_tag, reco_song, how='outer', on='tag')\n",
    "    reco = reco.fillna(0)\n",
    "    reco['count'] = reco.apply(lambda x : x.count_tag + x.count_song * 0.1 , axis=1)\n",
    "    reco = reco.sort_values('count', ascending=False)  \n",
    "    #print(reco)\n",
    "    return reco.head(size)['tag'].tolist()"
   ]
  },
  {
   "cell_type": "code",
   "execution_count": 1623,
   "metadata": {},
   "outputs": [
    {
     "data": {
      "text/plain": [
       "['크리스마스', '캐롤', '겨울', '연말', 'Christmas', '기분전환', '눈', '팝', '12월', '카페']"
      ]
     },
     "execution_count": 1623,
     "metadata": {},
     "output_type": "execute_result"
    }
   ],
   "source": [
    "reco_tag_song_mix(val.iloc[14149]['tags'], val.iloc[14149]['songs'])"
   ]
  },
  {
   "cell_type": "code",
   "execution_count": null,
   "metadata": {},
   "outputs": [],
   "source": []
  },
  {
   "cell_type": "code",
   "execution_count": null,
   "metadata": {},
   "outputs": [],
   "source": []
  },
  {
   "cell_type": "code",
   "execution_count": null,
   "metadata": {},
   "outputs": [],
   "source": []
  },
  {
   "cell_type": "code",
   "execution_count": 1624,
   "metadata": {},
   "outputs": [],
   "source": [
    "pp_tag_count_top = pp_tag_count_df.head(100)"
   ]
  },
  {
   "cell_type": "code",
   "execution_count": 1625,
   "metadata": {},
   "outputs": [],
   "source": [
    "reco_tag_count = 0\n",
    "def tag_reco_final(song_list, tag_list):\n",
    "    \n",
    "    global reco_tag_count\n",
    "    if reco_tag_count % 1000 == 0:\n",
    "        print(f'===== working at {reco_tag_count},  {datetime.now()} =====')\n",
    "\n",
    "    reco = reco_tag_co_occur(tag_list)\n",
    "    #print(f'r1 : {len(reco)}')\n",
    "    extra = 10 - len(reco)\n",
    "    if extra > 0:\n",
    "        reco.extend(reco_tag_song_co_occur(song_list, reco+tag_list, extra))\n",
    "        #print(f'r2 : {len(reco)}')\n",
    "    extra = 10 - len(reco)\n",
    "    if extra > 0:\n",
    "        reco.extend(pp_tag_count_df[~pp_tag_count_df.index.isin(reco+tag_list)].head(extra).index.tolist())\n",
    "        #print(f'r3 : {len(reco)}')\n",
    "    reco_tag_count = reco_tag_count + 1\n",
    "    return reco[:10]"
   ]
  },
  {
   "cell_type": "code",
   "execution_count": null,
   "metadata": {},
   "outputs": [],
   "source": []
  },
  {
   "cell_type": "code",
   "execution_count": 1626,
   "metadata": {},
   "outputs": [],
   "source": [
    "reco_tag_count = 0\n",
    "def tag_reco_final(song_list, tag_list):\n",
    "    global reco_tag_count\n",
    "    if reco_tag_count % 1000 == 0:\n",
    "        print(f'===== working at {reco_tag_count},  {datetime.now()} =====')\n",
    "        \n",
    "    song_len = len(song_list)\n",
    "    tag_len = len(tag_list)\n",
    "    reco = []\n",
    "    if song_len > 0 and tag_len > 0:\n",
    "        reco = reco_tag_song_mix(tag_list, song_list)\n",
    "    elif song_len > 0 and tag_len == 0:\n",
    "        reco = reco_tag_song_co_occur(song_list)\n",
    "    elif song_len == 0 and tag_len > 0:\n",
    "        reco = reco_tag_co_occur(tag_list)\n",
    "    \n",
    "    extra = 10 - len(reco)\n",
    "    if extra > 0:\n",
    "        reco.extend(pp_tag_count_top[~pp_tag_count_top.index.isin(reco+tag_list)].head(extra).index.tolist())\n",
    "    reco_tag_count = reco_tag_count + 1\n",
    "    return reco[:10]"
   ]
  },
  {
   "cell_type": "code",
   "execution_count": 1627,
   "metadata": {},
   "outputs": [],
   "source": [
    "#val['tag_reco'] = val.apply(lambda x : tag_reco_final(x.songs, x.tags), axis=1)\n",
    "#val[['id', 'tag_reco']].to_csv('tag_reco_result.csv', encoding='utf-8-sig')"
   ]
  },
  {
   "cell_type": "code",
   "execution_count": null,
   "metadata": {},
   "outputs": [
    {
     "name": "stdout",
     "output_type": "stream",
     "text": [
      "===== working at 0,  2020-07-22 12:52:15.796093 =====\n",
      "===== working at 1000,  2020-07-22 13:04:31.240137 =====\n",
      "===== working at 2000,  2020-07-22 13:16:48.354874 =====\n",
      "===== working at 3000,  2020-07-22 13:28:54.115111 =====\n",
      "===== working at 4000,  2020-07-22 13:41:09.990813 =====\n",
      "===== working at 5000,  2020-07-22 13:53:25.907667 =====\n"
     ]
    }
   ],
   "source": [
    "test['tag_reco'] = test.apply(lambda x : tag_reco_final(x.songs, x.tags), axis=1)"
   ]
  },
  {
   "cell_type": "code",
   "execution_count": null,
   "metadata": {},
   "outputs": [],
   "source": [
    "test[['id', 'tag_reco']].to_csv('tag_reco_result.csv', encoding='utf-8-sig')"
   ]
  },
  {
   "cell_type": "code",
   "execution_count": null,
   "metadata": {},
   "outputs": [],
   "source": []
  },
  {
   "cell_type": "code",
   "execution_count": null,
   "metadata": {},
   "outputs": [],
   "source": []
  },
  {
   "cell_type": "code",
   "execution_count": null,
   "metadata": {},
   "outputs": [],
   "source": []
  },
  {
   "cell_type": "code",
   "execution_count": null,
   "metadata": {},
   "outputs": [],
   "source": [
    "val[(val['songs_len'] != 0) & (val['tags_len'] != 0)].sample(30)"
   ]
  },
  {
   "cell_type": "code",
   "execution_count": null,
   "metadata": {},
   "outputs": [],
   "source": []
  },
  {
   "cell_type": "code",
   "execution_count": null,
   "metadata": {},
   "outputs": [],
   "source": [
    "def get_reco_song_co_occur(song_list, ignore_list=[], size=100):\n",
    "    reco_list = []\n",
    "    for song in song_list:\n",
    "        if song in co_song_count_df.index:\n",
    "            reco_s = co_song_count_df.loc[song]['sb'].tolist()\n",
    "            reco_c = co_song_count_df.loc[song]['count_scale'].tolist()\n",
    "            if type(reco_s) is not list:\n",
    "                reco_list.append([reco_s, reco_c])\n",
    "            else:\n",
    "                for idx, reco in enumerate(reco_s):\n",
    "                    reco_list.append([reco_s[idx], reco_c[idx]])\n",
    "    reco_df = pd.DataFrame(reco_list, columns=['song', 'count_scale'])\n",
    "    #print(reco_df.head(20))\n",
    "    reco_count_df = reco_df.groupby(['song'])['count_scale'].sum().sort_values(ascending=False).reset_index()\n",
    "    #print(reco_count_df.head(20))\n",
    "    reco_top = reco_count_df[~reco_count_df['song'].isin(song_list+ignore_list)].head(size)\n",
    "    #print(reco_top.head(20))\n",
    "\n",
    "    return reco_top"
   ]
  },
  {
   "cell_type": "code",
   "execution_count": null,
   "metadata": {},
   "outputs": [],
   "source": []
  },
  {
   "cell_type": "code",
   "execution_count": null,
   "metadata": {},
   "outputs": [],
   "source": [
    "def reco_song_co_occur(song_list, size=100):\n",
    "    if len(song_list) == 0:\n",
    "        return []\n",
    "    reco_top = get_reco_song_co_occur(song_list)\n",
    "    if len(reco_top) == 0:\n",
    "        return []\n",
    "    return reco_top['song'].tolist()"
   ]
  },
  {
   "cell_type": "code",
   "execution_count": null,
   "metadata": {},
   "outputs": [],
   "source": [
    "song_index = 21242"
   ]
  },
  {
   "cell_type": "code",
   "execution_count": null,
   "metadata": {},
   "outputs": [],
   "source": [
    "reco_result = reco_song_co_occur(val.iloc[song_index]['songs'])"
   ]
  },
  {
   "cell_type": "code",
   "execution_count": null,
   "metadata": {},
   "outputs": [],
   "source": [
    "len(set(reco_result))"
   ]
  },
  {
   "cell_type": "code",
   "execution_count": null,
   "metadata": {},
   "outputs": [],
   "source": [
    "len(set(reco_result) & set(val.iloc[song_index]['songs']))"
   ]
  },
  {
   "cell_type": "code",
   "execution_count": null,
   "metadata": {},
   "outputs": [],
   "source": [
    "song_meta_indexed.loc[val.iloc[song_index]['songs']]"
   ]
  },
  {
   "cell_type": "code",
   "execution_count": null,
   "metadata": {},
   "outputs": [],
   "source": [
    "song_meta_indexed.loc[reco_result].head(10)"
   ]
  },
  {
   "cell_type": "code",
   "execution_count": null,
   "metadata": {},
   "outputs": [],
   "source": []
  },
  {
   "cell_type": "code",
   "execution_count": null,
   "metadata": {},
   "outputs": [],
   "source": []
  },
  {
   "cell_type": "code",
   "execution_count": null,
   "metadata": {},
   "outputs": [],
   "source": []
  },
  {
   "cell_type": "code",
   "execution_count": null,
   "metadata": {},
   "outputs": [],
   "source": [
    "def get_reco_song_w2v(song_list, ignore_list=[], size=100):\n",
    "    reco_num_per_song = int(size / len(song_list)) + 1\n",
    "    reco_num_per_song = max(reco_num_per_song, 10) \n",
    "    reco_list = []\n",
    "    \n",
    "    for idx, song in enumerate(song_list):\n",
    "        if str(song) in model.wv.vocab:\n",
    "            reco_list.extend(model.wv.most_similar(str(song), topn=reco_num_per_song))\n",
    "    #print(reco_list)\n",
    "        \n",
    "    reco_df = pd.DataFrame(reco_list, columns=['song', 'dist'])\n",
    "    reco_count_df = reco_df.groupby('song')['dist'].sum().sort_values(ascending=False).reset_index()\n",
    "    reco_count_df['song_id'] = reco_count_df['song'].apply(lambda x : int(x))\n",
    "    reco_top = reco_count_df[~reco_count_df['song_id'].isin(song_list+ignore_list)].head(size)\n",
    "\n",
    "    #print(reco_top[['song_id', 'dist']])\n",
    "    return reco_top[['song_id', 'dist']]"
   ]
  },
  {
   "cell_type": "code",
   "execution_count": null,
   "metadata": {},
   "outputs": [],
   "source": [
    "def reco_song_w2v(song_list, ignore_list=[], size=100):\n",
    "    if len(song_list) == 0:\n",
    "        return []\n",
    "    reco_top = get_reco_song_w2v(song_list, ignore_list, size)\n",
    "    if len(reco_top) == 0:\n",
    "        return []\n",
    "    return reco_top['song_id'].tolist()"
   ]
  },
  {
   "cell_type": "code",
   "execution_count": null,
   "metadata": {},
   "outputs": [],
   "source": []
  },
  {
   "cell_type": "code",
   "execution_count": null,
   "metadata": {},
   "outputs": [],
   "source": [
    "song_index = 21242\n"
   ]
  },
  {
   "cell_type": "code",
   "execution_count": null,
   "metadata": {},
   "outputs": [],
   "source": [
    "reco_result = reco_song_w2v(val.iloc[song_index]['songs'])"
   ]
  },
  {
   "cell_type": "code",
   "execution_count": null,
   "metadata": {},
   "outputs": [],
   "source": [
    "len(set(reco_result))"
   ]
  },
  {
   "cell_type": "code",
   "execution_count": null,
   "metadata": {},
   "outputs": [],
   "source": [
    "len(set(reco_result) & set(val.iloc[song_index]['songs']))"
   ]
  },
  {
   "cell_type": "code",
   "execution_count": null,
   "metadata": {},
   "outputs": [],
   "source": [
    "song_meta_indexed.loc[val.iloc[song_index]['songs']]"
   ]
  },
  {
   "cell_type": "code",
   "execution_count": null,
   "metadata": {},
   "outputs": [],
   "source": [
    "song_meta_indexed.loc[reco_result].head(10)"
   ]
  },
  {
   "cell_type": "code",
   "execution_count": null,
   "metadata": {},
   "outputs": [],
   "source": []
  },
  {
   "cell_type": "code",
   "execution_count": null,
   "metadata": {},
   "outputs": [],
   "source": []
  },
  {
   "cell_type": "code",
   "execution_count": null,
   "metadata": {},
   "outputs": [],
   "source": []
  },
  {
   "cell_type": "code",
   "execution_count": null,
   "metadata": {},
   "outputs": [],
   "source": []
  },
  {
   "cell_type": "code",
   "execution_count": null,
   "metadata": {},
   "outputs": [],
   "source": []
  },
  {
   "cell_type": "code",
   "execution_count": null,
   "metadata": {},
   "outputs": [],
   "source": []
  },
  {
   "cell_type": "code",
   "execution_count": null,
   "metadata": {},
   "outputs": [],
   "source": [
    "def get_reco_song_tag_co_occur(tag_list, ignore_list=[], size=100):\n",
    "    tag_song_df = co_tag_song_count_df[co_tag_song_count_df['tag'].isin(tag_list)]\n",
    "    #print(tag_song_df)\n",
    "    if tag_song_df.shape[0] == 0:\n",
    "        return []\n",
    "    tag_song_count_df = tag_song_df.groupby('song')['count_scale'].sum().reset_index()\n",
    "    #print(tag_song_count_df)\n",
    "    tag_song_count_df_remove_ignore = tag_song_count_df[~tag_song_count_df['song'].isin(ignore_list)]\n",
    "   \n",
    "    tag_song_count_top = tag_song_count_df_remove_ignore.sort_values('count_scale', ascending=False).head(size)\n",
    "    #print(tag_song_count_top.head(20))\n",
    "    return tag_song_count_top"
   ]
  },
  {
   "cell_type": "code",
   "execution_count": null,
   "metadata": {},
   "outputs": [],
   "source": []
  },
  {
   "cell_type": "code",
   "execution_count": null,
   "metadata": {},
   "outputs": [],
   "source": [
    "def reco_song_tag_co_occur(tag_list, ignore_list=[], size=100):\n",
    "    tags = list(set(tag_list))\n",
    "    if len(tags) == 0:\n",
    "        return []\n",
    "    reco_top = get_reco_song_tag_co_occur(tags, ignore_list, size)\n",
    "    if len(reco_top) == 0:\n",
    "        return []\n",
    "    return reco_top['song'].tolist()"
   ]
  },
  {
   "cell_type": "code",
   "execution_count": null,
   "metadata": {},
   "outputs": [],
   "source": [
    "song_index = 100"
   ]
  },
  {
   "cell_type": "code",
   "execution_count": null,
   "metadata": {},
   "outputs": [],
   "source": [
    "reco_result = reco_song_tag_co_occur(val.iloc[song_index]['tags'])"
   ]
  },
  {
   "cell_type": "code",
   "execution_count": null,
   "metadata": {},
   "outputs": [],
   "source": [
    "len(set(reco_result))"
   ]
  },
  {
   "cell_type": "code",
   "execution_count": null,
   "metadata": {},
   "outputs": [],
   "source": [
    "val.iloc[song_index]['tags']"
   ]
  },
  {
   "cell_type": "code",
   "execution_count": null,
   "metadata": {},
   "outputs": [],
   "source": [
    "song_meta_indexed.loc[reco_result]"
   ]
  },
  {
   "cell_type": "code",
   "execution_count": null,
   "metadata": {},
   "outputs": [],
   "source": []
  },
  {
   "cell_type": "code",
   "execution_count": null,
   "metadata": {},
   "outputs": [],
   "source": []
  },
  {
   "cell_type": "code",
   "execution_count": null,
   "metadata": {},
   "outputs": [],
   "source": [
    "def reco_song_co_occur_album_artist_count(song_list):\n",
    "    #print(song_list)\n",
    "    reco_ss = get_reco_song_co_occur(song_list, [], 200)\n",
    "    \n",
    "    if len(reco_ss) == 0:\n",
    "        return []\n",
    "    \n",
    "    reco_ss.columns = ['song', 'count_song']\n",
    "    reco_ss = pd.merge(reco_ss, song_album_df, how='left', left_on='song', right_on='song')\n",
    "    #print(reco_ss)\n",
    "    \n",
    "    song_album_count = song_album_df.loc[song_list].groupby('album').size().reset_index()\n",
    "    song_album_count.columns = ['album', 'count']\n",
    "    #print(song_album_count)\n",
    "    song_album_count = song_album_count.set_index('album')\n",
    "       \n",
    "    def get_album_count(album):\n",
    "        count = 1\n",
    "        if album in song_album_count.index:\n",
    "            #print(song_album_count.loc[album]['count'])\n",
    "            count = count + song_album_count.loc[album]['count']\n",
    "        return math.log(count+1)\n",
    "    reco_ss['count_album'] = reco_ss['album'].apply(get_album_count)\n",
    "   \n",
    "\n",
    "    reco_ss = pd.merge(reco_ss, song_meta[['id', 'artist_name_basket']], how='left', left_on='song', right_on='id')\n",
    "    #print(reco_ss)\n",
    "    \n",
    "    song_artist_count = song_artist_df.loc[song_list].groupby('artist').size().reset_index()\n",
    "    song_artist_count.columns = ['artist', 'count']\n",
    "    #print(song_artist_count)\n",
    "    song_artist_count = song_artist_count.set_index('artist')\n",
    "       \n",
    "    def get_artist_count(artist_list):    \n",
    "        count = 1\n",
    "        if len(artist_list) == 0:\n",
    "            return count\n",
    "        for artist in artist_list:\n",
    "            if artist in song_artist_count.index:\n",
    "                #print(song_artist_count.loc[artist]['count'])\n",
    "                count = count + song_artist_count.loc[artist]['count']\n",
    "        return math.log(max(int(count / len(artist_list)), 1)+1)\n",
    "    reco_ss['count_artist'] = reco_ss['artist_name_basket'].apply(get_artist_count)\n",
    "    \n",
    "    \n",
    "    reco_ss = pd.merge(reco_ss, song_meta[['id', 'song_gn_dtl_gnr_basket']], how='left', left_on='id', right_on='id')\n",
    "    #print(reco_ss)\n",
    "    song_gn_count = song_gn_df.loc[song_list].groupby('gn').size().reset_index()\n",
    "    song_gn_count.columns = ['gn', 'count']\n",
    "    #print(song_artist_count)\n",
    "    song_gn_count = song_gn_count.set_index('gn')\n",
    "    \n",
    "    def get_gn_count(gn_list):\n",
    "        count = 1\n",
    "        if len(gn_list) == 0:\n",
    "            return count\n",
    "        for gn in gn_list:\n",
    "            if gn in song_gn_count.index:\n",
    "                #print(song_gn_count.loc[gn]['count'])\n",
    "                count = count + song_gn_count.loc[gn]['count']\n",
    "        return math.log(max(int(count / len(gn_list)), 1))\n",
    "    reco_ss['count_gn'] = reco_ss['song_gn_dtl_gnr_basket'].apply(get_gn_count)\n",
    "\n",
    "    reco = reco_ss\n",
    "    reco['count'] = reco.apply(lambda x : x.count_song + x.count_album * 5 + x.count_artist * 5 + x.count_gn, axis=1)\n",
    "    reco = reco.sort_values('count', ascending=False)  \n",
    "    #print(reco.head(10))\n",
    "    return reco.head(100)['song'].tolist()"
   ]
  },
  {
   "cell_type": "code",
   "execution_count": null,
   "metadata": {},
   "outputs": [],
   "source": [
    "song_index = 30"
   ]
  },
  {
   "cell_type": "code",
   "execution_count": null,
   "metadata": {},
   "outputs": [],
   "source": [
    "song_meta_indexed.loc[val.iloc[song_index]['songs']]"
   ]
  },
  {
   "cell_type": "code",
   "execution_count": null,
   "metadata": {},
   "outputs": [],
   "source": [
    "reco_result = reco_song_co_occur_album_artist_count(val.iloc[song_index]['songs'])"
   ]
  },
  {
   "cell_type": "code",
   "execution_count": null,
   "metadata": {},
   "outputs": [],
   "source": [
    "song_meta_indexed.loc[reco_result].head(10)"
   ]
  },
  {
   "cell_type": "code",
   "execution_count": null,
   "metadata": {},
   "outputs": [],
   "source": []
  },
  {
   "cell_type": "code",
   "execution_count": null,
   "metadata": {},
   "outputs": [],
   "source": []
  },
  {
   "cell_type": "code",
   "execution_count": null,
   "metadata": {},
   "outputs": [],
   "source": [
    "pp_song_count_df_top200 = pp_song_count_df.head(200)"
   ]
  },
  {
   "cell_type": "code",
   "execution_count": null,
   "metadata": {},
   "outputs": [],
   "source": [
    "reco_song_count = 0\n",
    "\n",
    "def song_reco_final(song_list, tag_list):\n",
    "    global reco_song_count\n",
    "    song_len = len(song_list)\n",
    "    tag_len = len(tag_list)\n",
    "\n",
    "    reco = []\n",
    "    extra = 100\n",
    "    \n",
    "    if reco_song_count % 1000 == 0:\n",
    "        print(f'===== working at {reco_song_count},  {datetime.now()} =====')\n",
    "    \n",
    "    if song_len > 0 and tag_len > 0:\n",
    "        reco = reco_song_co_occur_album_artist_count(song_list)\n",
    "        extra = 100 - len(reco)\n",
    "        if extra > 0:\n",
    "            reco.extend(reco_song_w2v(song_list, reco, extra))\n",
    "        extra = 100 - len(reco)\n",
    "        if extra > 0:\n",
    "            reco.extend(reco_song_tag_co_occur(tag_list, song_list+reco, extra))\n",
    "    elif song_len > 0 and tag_len == 0:\n",
    "        reco = reco_song_co_occur_album_artist_count(song_list)\n",
    "        extra = 100 - len(reco)\n",
    "        if extra > 0:\n",
    "            reco.extend(reco_song_w2v(song_list, reco, extra))\n",
    "    elif song_len == 0 and tag_len > 0:\n",
    "        reco = reco_song_tag_co_occur(tag_list)\n",
    "    \n",
    "    extra = 100 - len(reco)\n",
    "    if extra > 0:\n",
    "        reco.extend(pp_song_count_df_top200[~pp_song_count_df_top200.index.isin(song_list+reco)].head(extra).index.tolist())\n",
    "    reco_song_count = reco_song_count + 1\n",
    "    return reco[:100]"
   ]
  },
  {
   "cell_type": "code",
   "execution_count": null,
   "metadata": {},
   "outputs": [],
   "source": []
  },
  {
   "cell_type": "code",
   "execution_count": null,
   "metadata": {},
   "outputs": [],
   "source": []
  },
  {
   "cell_type": "code",
   "execution_count": null,
   "metadata": {},
   "outputs": [],
   "source": [
    "#val['song_reco'] = val.apply(lambda x : song_reco_final(x.songs, x.tags), axis=1)\n",
    "#val[['id', 'song_reco']].to_csv('song_reco_result.csv')"
   ]
  },
  {
   "cell_type": "code",
   "execution_count": null,
   "metadata": {},
   "outputs": [],
   "source": [
    "test['song_reco'] = test.apply(lambda x : song_reco_final(x.songs, x.tags), axis=1)\n",
    "test[['id', 'song_reco']].to_csv('song_reco_result.csv')"
   ]
  },
  {
   "cell_type": "code",
   "execution_count": null,
   "metadata": {},
   "outputs": [],
   "source": []
  },
  {
   "cell_type": "code",
   "execution_count": null,
   "metadata": {},
   "outputs": [],
   "source": []
  },
  {
   "cell_type": "code",
   "execution_count": null,
   "metadata": {},
   "outputs": [],
   "source": [
    "song_reco = pd.read_csv('song_reco_result.csv')"
   ]
  },
  {
   "cell_type": "code",
   "execution_count": null,
   "metadata": {},
   "outputs": [],
   "source": [
    "song_reco['song_reco'] = song_reco['song_reco'].apply(lambda x : eval(x))"
   ]
  },
  {
   "cell_type": "code",
   "execution_count": null,
   "metadata": {},
   "outputs": [],
   "source": [
    "#val['song_reco'] = song_reco['song_reco']\n",
    "test['song_reco'] = song_reco['song_reco']"
   ]
  },
  {
   "cell_type": "code",
   "execution_count": null,
   "metadata": {},
   "outputs": [],
   "source": [
    "tag_reco = pd.read_csv('tag_reco_result.csv')"
   ]
  },
  {
   "cell_type": "code",
   "execution_count": null,
   "metadata": {},
   "outputs": [],
   "source": [
    "tag_reco['tag_reco'] = tag_reco['tag_reco'].apply(lambda x : eval(x))"
   ]
  },
  {
   "cell_type": "code",
   "execution_count": null,
   "metadata": {},
   "outputs": [],
   "source": [
    "#val['tag_reco'] = tag_reco['tag_reco']\n",
    "test['tag_reco'] = tag_reco['tag_reco']"
   ]
  },
  {
   "cell_type": "code",
   "execution_count": null,
   "metadata": {},
   "outputs": [],
   "source": []
  },
  {
   "cell_type": "code",
   "execution_count": null,
   "metadata": {},
   "outputs": [],
   "source": []
  },
  {
   "cell_type": "code",
   "execution_count": null,
   "metadata": {},
   "outputs": [],
   "source": [
    "answers = []\n",
    "\n",
    "def make_answer(pid, songs, tags):\n",
    "    answers.append({\n",
    "        \"id\": pid,\n",
    "        \"songs\": songs,\n",
    "        \"tags\": tags\n",
    "    }) "
   ]
  },
  {
   "cell_type": "code",
   "execution_count": null,
   "metadata": {},
   "outputs": [],
   "source": [
    "#result = val.apply(lambda x : make_answer(x.id, x.song_reco, x.tag_reco), axis=1)\n",
    "result = test.apply(lambda x : make_answer(x.id, x.song_reco, x.tag_reco), axis=1)"
   ]
  },
  {
   "cell_type": "code",
   "execution_count": null,
   "metadata": {},
   "outputs": [],
   "source": [
    "import io\n",
    "import os\n",
    "import json\n",
    "import distutils.dir_util\n",
    "\n",
    "def write_json(data, fname):\n",
    "    def _conv(o):\n",
    "        if isinstance(o, (np.int64, np.int32)):\n",
    "            return int(o)\n",
    "        raise TypeError\n",
    "\n",
    "    parent = os.path.dirname(fname)\n",
    "    distutils.dir_util.mkpath(\"./arena_data/\" + parent)\n",
    "    with io.open(\"./arena_data/\" + fname, \"w\", encoding=\"utf-8\") as f:\n",
    "        json_str = json.dumps(data, ensure_ascii=False, default=_conv)\n",
    "        f.write(json_str)"
   ]
  },
  {
   "cell_type": "code",
   "execution_count": null,
   "metadata": {},
   "outputs": [],
   "source": [
    "write_json(answers, 'results.json')"
   ]
  },
  {
   "cell_type": "code",
   "execution_count": null,
   "metadata": {},
   "outputs": [],
   "source": []
  },
  {
   "cell_type": "code",
   "execution_count": null,
   "metadata": {},
   "outputs": [],
   "source": []
  },
  {
   "cell_type": "code",
   "execution_count": null,
   "metadata": {},
   "outputs": [],
   "source": []
  },
  {
   "cell_type": "code",
   "execution_count": null,
   "metadata": {},
   "outputs": [],
   "source": []
  }
 ],
 "metadata": {
  "kernelspec": {
   "display_name": "Python 3",
   "language": "python",
   "name": "python3"
  },
  "language_info": {
   "codemirror_mode": {
    "name": "ipython",
    "version": 3
   },
   "file_extension": ".py",
   "mimetype": "text/x-python",
   "name": "python",
   "nbconvert_exporter": "python",
   "pygments_lexer": "ipython3",
   "version": "3.6.10"
  }
 },
 "nbformat": 4,
 "nbformat_minor": 4
}
